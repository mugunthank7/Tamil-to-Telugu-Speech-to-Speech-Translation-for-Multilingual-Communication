{
 "cells": [
  {
   "cell_type": "code",
   "execution_count": 1,
   "metadata": {},
   "outputs": [],
   "source": [
    "from translate import Translator"
   ]
  },
  {
   "cell_type": "code",
   "execution_count": 2,
   "metadata": {},
   "outputs": [],
   "source": [
    " \n",
    "def translate_text(text, target_language):\n",
    "    if text is not None:\n",
    "        translator = Translator(to_lang=target_language)\n",
    "        translation = translator.translate(text)\n",
    "        return translation\n",
    "    else:\n",
    "        return \"No text to translate\""
   ]
  },
  {
   "cell_type": "code",
   "execution_count": 4,
   "metadata": {},
   "outputs": [
    {
     "name": "stdout",
     "output_type": "stream",
     "text": [
      "Translated Text:\n",
      "మనల్ని మనం రక్షించుకోగలగాలి. నేను సమ్మతించినట్లయితే. వీడ్కోలు పలకడం ద్వారా ఒక వ్యక్తికి ప్రయోజనం చేకూరుతుంది. రాజు కోడలు. తిరుమల దర్శన కాళేశ్వరం మాతృమూర్తి దర్శన కాళేశ్వరం (8 కి .మీ.) నట్నాథుడి దర్శన కాళేశ్వరం పాదయాత్రలు. ఒకవేళ ఇదే జరిగితే. ఒక వేళ మాపై దాడి జరిగితే మాపై చర్యలు తీసుకుంటామని హెచ్చరించారు.\n"
     ]
    }
   ],
   "source": [
    "recognized_text = \"நம்ம சிற்றூருக்கு சாலை வசதி இல்லை. மின்சார இணைப்பு இருக்குது. வீட்டுக்கு ஒரு தொலைக்காட்சிப் பெட்டி. அரசாங்கம் கொடுத்தது. திரைப்படம் வந்த காலத்தில் நம்ம கொள்ளுத்தாத்தா கொள்ளுப்பாட்டி எல்லாம் அஞ்சு மைல் (8 கி.மீ) நடந்து போய் திரைப்படம் பார்த்தாங்களாம். அந்த சுகம் இப்ப வீட்டிலேயே கிடைக்குது. அந்தக் காலத்தில் இருந்து இன்னிக்கு வரைக்கும் நம்ம ஊரில் யாருக்கும் தமிழ்ப் பேரு கிடையாது.\"\n",
    "target_language = 'te'\n",
    "\n",
    "translated_text = translate_text(recognized_text, target_language)\n",
    "print(\"Translated Text:\")\n",
    "print(translated_text)"
   ]
  }
 ],
 "metadata": {
  "kernelspec": {
   "display_name": "Python 3",
   "language": "python",
   "name": "python3"
  },
  "language_info": {
   "codemirror_mode": {
    "name": "ipython",
    "version": 3
   },
   "file_extension": ".py",
   "mimetype": "text/x-python",
   "name": "python",
   "nbconvert_exporter": "python",
   "pygments_lexer": "ipython3",
   "version": "3.10.12"
  }
 },
 "nbformat": 4,
 "nbformat_minor": 2
}
